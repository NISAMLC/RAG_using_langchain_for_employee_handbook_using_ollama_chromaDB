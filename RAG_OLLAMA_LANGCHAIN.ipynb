{
 "cells": [
  {
   "cell_type": "code",
   "execution_count": 1,
   "id": "a36e2c4c-90db-4020-a021-8d86a7dfc3b0",
   "metadata": {},
   "outputs": [],
   "source": [
    "from langchain_community.vectorstores import Chroma\n",
    "from langchain_community.document_loaders import PyPDFLoader\n",
    "from langchain_community.chat_models import ChatOllama\n",
    "from langchain_community.embeddings.fastembed import FastEmbedEmbeddings\n",
    "from langchain.text_splitter import RecursiveCharacterTextSplitter\n",
    "from langchain.prompts import PromptTemplate\n",
    "from langchain.chains.combine_documents import create_stuff_documents_chain\n",
    "from langchain.chains import create_retrieval_chain\n",
    "import sys"
   ]
  },
  {
   "cell_type": "code",
   "execution_count": 2,
   "id": "56023651-6ecf-45cc-ae58-f9decb320bc8",
   "metadata": {},
   "outputs": [],
   "source": [
    "def ingest():\n",
    "    # Get the doc\n",
    "    loader = PyPDFLoader(\"Employee-Handbook.pdf\")\n",
    "    pages = loader.load_and_split()\n",
    "    # Split the pages by char\n",
    "    text_splitter = RecursiveCharacterTextSplitter(\n",
    "        chunk_size=1024,\n",
    "        chunk_overlap=100,\n",
    "        length_function=len,\n",
    "        add_start_index=True,\n",
    "    )\n",
    "    chunks = text_splitter.split_documents(pages)\n",
    "    print(f\"Split {len(pages)} documents into {len(chunks)} chunks.\")\n",
    "    #\n",
    "    embedding = FastEmbedEmbeddings()\n",
    "    #Create vector store\n",
    "    Chroma.from_documents(documents=chunks,  embedding=embedding, persist_directory=\"./emp_chr_db\")"
   ]
  },
  {
   "cell_type": "code",
   "execution_count": 7,
   "id": "e5f40d4d-c4de-4c83-a6e4-24db36fa7a4c",
   "metadata": {},
   "outputs": [
    {
     "name": "stdout",
     "output_type": "stream",
     "text": [
      "Split 34 documents into 75 chunks.\n"
     ]
    }
   ],
   "source": [
    "ingest()"
   ]
  },
  {
   "cell_type": "code",
   "execution_count": 6,
   "id": "ded934e7-ec1a-48a7-a0c8-2c61f7723a94",
   "metadata": {},
   "outputs": [],
   "source": [
    "\n",
    "\n",
    "\n",
    "from huggingface_hub import login\n",
    "access_token_read =\"\"\n",
    "access_token_write = \"\"\n",
    "login(token = access_token_read)\n",
    "\n"
   ]
  },
  {
   "cell_type": "markdown",
   "id": "0e4c96bb-a4b9-4bc9-a991-1e46fe67949c",
   "metadata": {},
   "source": [
    "### Create a RAG chain that retreives relevent chunks and prepares a response"
   ]
  },
  {
   "cell_type": "code",
   "execution_count": 8,
   "id": "6b00ad0e-92e9-4019-9cc2-e4f5860e2eb5",
   "metadata": {},
   "outputs": [],
   "source": [
    "def rag_chain():\n",
    "    model = ChatOllama(model=\"gemma3:4b\")\n",
    "    #\n",
    "    prompt = PromptTemplate.from_template(\n",
    "        \"\"\"\n",
    "        <s> [Instructions] You are a friendly assistant. Answer the question based only on the following context. \n",
    "        If you don't know the answer, then reply, No Context availabel for this question {input}. [/Instructions] </s> \n",
    "        [Instructions] Question: {input} \n",
    "        Context: {context} \n",
    "        Answer: [/Instructions]\n",
    "        \"\"\"\n",
    "    )\n",
    "    #Load vector store\n",
    "    embedding = FastEmbedEmbeddings()\n",
    "    vector_store = Chroma(persist_directory=\"./emp_chr_db\", embedding_function=embedding)\n",
    "\n",
    "    #Create chain\n",
    "    retriever = vector_store.as_retriever(\n",
    "        search_type=\"similarity_score_threshold\",\n",
    "        search_kwargs={\n",
    "            \"k\": 3,\n",
    "            \"score_threshold\": 0.5,\n",
    "        },\n",
    "    )\n",
    "\n",
    "    document_chain = create_stuff_documents_chain(model, prompt)\n",
    "    chain = create_retrieval_chain(retriever, document_chain)\n",
    "    #\n",
    "    return chain"
   ]
  },
  {
   "cell_type": "code",
   "execution_count": 9,
   "id": "bf19a8ab-e891-4d53-af78-4b2ef739bca7",
   "metadata": {},
   "outputs": [],
   "source": [
    "def ask(query: str):\n",
    "    #\n",
    "    chain = rag_chain()\n",
    "    # invoke chain\n",
    "    result = chain.invoke({\"input\": query})\n",
    "    # print results\n",
    "    print(result[\"answer\"])\n",
    "    for doc in result[\"context\"]:\n",
    "        print(\"Source: \", doc.metadata[\"source\"])"
   ]
  },
  {
   "cell_type": "markdown",
   "id": "6420133d-ab52-4f5a-9c04-026a56929462",
   "metadata": {},
   "source": [
    "### Ask Question to get relevant information from the document"
   ]
  },
  {
   "cell_type": "code",
   "execution_count": 10,
   "id": "e2a6a18b-db06-4baa-a235-06bebf7bdea5",
   "metadata": {},
   "outputs": [
    {
     "name": "stderr",
     "output_type": "stream",
     "text": [
      "C:\\Users\\nisam\\AppData\\Local\\Temp\\ipykernel_15364\\2256481245.py:2: LangChainDeprecationWarning: The class `ChatOllama` was deprecated in LangChain 0.3.1 and will be removed in 1.0.0. An updated version of the class exists in the :class:`~langchain-ollama package and should be used instead. To use it run `pip install -U :class:`~langchain-ollama` and import as `from :class:`~langchain_ollama import ChatOllama``.\n",
      "  model = ChatOllama(model=\"gemma3:4b\")\n",
      "C:\\Users\\nisam\\AppData\\Local\\Temp\\ipykernel_15364\\2256481245.py:15: LangChainDeprecationWarning: The class `Chroma` was deprecated in LangChain 0.2.9 and will be removed in 1.0. An updated version of the class exists in the :class:`~langchain-chroma package and should be used instead. To use it run `pip install -U :class:`~langchain-chroma` and import as `from :class:`~langchain_chroma import Chroma``.\n",
      "  vector_store = Chroma(persist_directory=\"./sql_chroma_db\", embedding_function=embedding)\n"
     ]
    },
    {
     "name": "stdout",
     "output_type": "stream",
     "text": [
      "Here are the steps involved in the recruitment and selection process:\n",
      "\n",
      "i. Identify the need for a new job opening.\n",
      "ii. Decide whether to hire externally or internally.\n",
      "iii. Review job descriptions and write a job ad.\n",
      "iv. Get approval for your job ad.\n",
      "v. Select appropriate sources (external or internal) to post your job opening.\n",
      "vi. Decide on hiring stages and possible timeframes.\n",
      "vii. Review resumes in our company database/ATS.\n",
      "viii. Source passive candidates.\n",
      "ix. Shortlist applicants.\n",
      "Source:  Employee-Handbook.pdf\n",
      "Source:  Employee-Handbook.pdf\n",
      "Source:  Employee-Handbook.pdf\n"
     ]
    }
   ],
   "source": [
    "ask(\"What are steps involved in the Recruitment and selection process\")"
   ]
  },
  {
   "cell_type": "code",
   "execution_count": 15,
   "id": "4e31e0ca-4f20-4c18-b438-efce7d01e816",
   "metadata": {},
   "outputs": [
    {
     "name": "stdout",
     "output_type": "stream",
     "text": [
      "They are providing for safety and health through:\n",
      "\n",
      "*   Preventative action, including periodic risk assessments and job hazard analyses conducted by a workplace safety committee.\n",
      "*   Establishing preventative measures to address risks.\n",
      "Source:  Employee-Handbook.pdf\n",
      "Source:  Employee-Handbook.pdf\n",
      "Source:  Employee-Handbook.pdf\n"
     ]
    }
   ],
   "source": [
    "ask(\"What are all they provding for safety and health \")"
   ]
  },
  {
   "cell_type": "code",
   "execution_count": 16,
   "id": "341eb4ba-127f-482f-9e32-0dd141bee28e",
   "metadata": {},
   "outputs": [
    {
     "name": "stdout",
     "output_type": "stream",
     "text": [
      "Here are the steps involved in the recruitment and selection process:\n",
      "\n",
      "i. Identify the need for a new job opening.\n",
      "ii. Decide whether to hire externally or internally.\n",
      "iii. Review job descriptions and write a job ad.\n",
      "iv. Get approval for your job ad.\n",
      "v. Select appropriate sources (external or internal) to post your job opening.\n",
      "vi. Decide on hiring stages and possible timeframes.\n",
      "vii. Review resumes in our company database/ATS.\n",
      "viii. Source passive candidates.\n",
      "ix. Shortlist applicants.\n",
      "Source:  Employee-Handbook.pdf\n",
      "Source:  Employee-Handbook.pdf\n",
      "Source:  Employee-Handbook.pdf\n"
     ]
    }
   ],
   "source": [
    "ask(\"What are steps involved in Recruitment and selection process \")"
   ]
  },
  {
   "cell_type": "code",
   "execution_count": null,
   "id": "abfc7cab-c523-412f-98d7-354243327e7c",
   "metadata": {},
   "outputs": [],
   "source": []
  }
 ],
 "metadata": {
  "kernelspec": {
   "display_name": "Python 3 (ipykernel)",
   "language": "python",
   "name": "python3"
  },
  "language_info": {
   "codemirror_mode": {
    "name": "ipython",
    "version": 3
   },
   "file_extension": ".py",
   "mimetype": "text/x-python",
   "name": "python",
   "nbconvert_exporter": "python",
   "pygments_lexer": "ipython3",
   "version": "3.10.15"
  }
 },
 "nbformat": 4,
 "nbformat_minor": 5
}
